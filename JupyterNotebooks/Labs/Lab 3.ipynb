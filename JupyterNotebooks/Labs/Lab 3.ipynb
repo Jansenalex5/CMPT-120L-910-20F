{
 "metadata": {
  "language_info": {
   "codemirror_mode": {
    "name": "ipython",
    "version": 3
   },
   "file_extension": ".py",
   "mimetype": "text/x-python",
   "name": "python",
   "nbconvert_exporter": "python",
   "pygments_lexer": "ipython3",
   "version": "3.8.5-final"
  },
  "orig_nbformat": 2,
  "kernelspec": {
   "name": "Python 3.8.5 32-bit",
   "display_name": "Python 3.8.5 32-bit",
   "metadata": {
    "interpreter": {
     "hash": "9b05f9d1497f3113fb096e6929bbc500cd64e9d995f62647e9608bb8a23918a5"
    }
   }
  }
 },
 "nbformat": 4,
 "nbformat_minor": 2,
 "cells": [
  {
   "source": [
    "# Lab Three\n",
    "---\n",
    "\n",
    "For this lab we're going to be making and using a bunch of functions. \n",
    "\n",
    "Our Goals are:\n",
    "- Searching our Documentation\n",
    "- Using built in functions\n",
    "- Making our own functions\n",
    "- Combining functions\n",
    "- Structuring solutions"
   ],
   "cell_type": "markdown",
   "metadata": {}
  },
  {
   "cell_type": "code",
   "execution_count": 1,
   "metadata": {},
   "outputs": [],
   "source": [
    "# For the following built in functions we didn't touch on them in class. I want you to look for them in the python documentation and implement them."
   ]
  },
  {
   "cell_type": "code",
   "execution_count": 6,
   "metadata": {
    "tags": []
   },
   "outputs": [
    {
     "output_type": "stream",
     "name": "stdout",
     "text": "hEy THerE hOWs It gOing\n"
    }
   ],
   "source": [
    "# I want you to find a built in function to SWAP CASE on a string. Print it.\n",
    "\n",
    "# For example the string \"HeY thERe HowS iT GoING\" turns into \"hEy THerE hOWs It gOing\"\n",
    "sample_string = \"HeY thERe HowS iT GoING\"\n",
    "\n",
    "print(sample_string.swapcase())\n",
    "#print(sample_string)\n",
    "\n"
   ]
  },
  {
   "cell_type": "code",
   "execution_count": 25,
   "metadata": {
    "tags": []
   },
   "outputs": [
    {
     "output_type": "stream",
     "name": "stdout",
     "text": "----hey there----\n"
    }
   ],
   "source": [
    "# I want you to find a built in function to CENTER a string and pad the sides with 4 dashes(-) a side. Print it.\n",
    "\n",
    "# For example the string \"Hey There\" becomes \"----Hey There----\"\n",
    "\n",
    "txt = \"hey there\"\n",
    "x = txt.center(17,\"-\")\n",
    "print(x)"
   ]
  },
  {
   "cell_type": "code",
   "execution_count": 28,
   "metadata": {
    "tags": []
   },
   "outputs": [
    {
     "output_type": "stream",
     "name": "stdout",
     "text": "('abcdefg', '.', 'hijklmnop')\n"
    }
   ],
   "source": [
    "# I want you to find a built in function to PARTITION a string. Print it.\n",
    "\n",
    "# For example the string \"abcdefg.hijklmnop\" would come out to be [\"abcdefg\",\".\",\"hijklmnop\"]\n",
    "\n",
    "\n",
    "sample_string = \"abcdefg.hijklmnop\"\n",
    "\n",
    "x = sample_string.partition(\".\")\n",
    "\n",
    "print(x)"
   ]
  },
  {
   "cell_type": "code",
   "execution_count": 29,
   "metadata": {},
   "outputs": [
    {
     "output_type": "execute_result",
     "data": {
      "text/plain": "8"
     },
     "metadata": {},
     "execution_count": 29
    }
   ],
   "source": [
    "# I want you to write a function that will take in a number and raise it to the power given. \n",
    "\n",
    "# For example if given the numbers 2 and 3. The math that the function should do is 2^3 and should print out or return 8. Print the output.\n",
    "\n",
    "pow(2,3)"
   ]
  },
  {
   "cell_type": "code",
   "execution_count": 3,
   "metadata": {
    "tags": []
   },
   "outputs": [
    {
     "output_type": "stream",
     "name": "stdout",
     "text": "2 has occurred 3 times\n"
    }
   ],
   "source": [
    "# I want you to write a function that will take in a list and see how many times a given number is in the list. \n",
    "\n",
    "# For example if the array given is [2,3,5,2,3,6,7,8,2] and the number given is 2 the function should print out or return 3. Print the output.\n",
    "\n",
    "def countX(Array1,x):\n",
    "    count = 0\n",
    "    for ele in Array1:\n",
    "        if (ele == x):\n",
    "            count = count + 1\n",
    "    return count\n",
    "    \n",
    "Array1 = [2,3,5,2,3,6,7,8,2]\n",
    "x = 2\n",
    "print('{} has occurred {} times'.format(x, countX(Array1, x)))"
   ]
  },
  {
   "cell_type": "code",
   "execution_count": 22,
   "metadata": {
    "tags": []
   },
   "outputs": [
    {
     "output_type": "stream",
     "name": "stdout",
     "text": "3.0\n"
    }
   ],
   "source": [
    "# Use the functions given to create a slope function. The function should be named slope and have 4 parameters.\n",
    "\n",
    "# If you don't remember the slope formula is (y2 - y1) / (x2 - x1) If this doesn't make sense look up `Slope Formula` on google.\n",
    "\n",
    "def division(x, y):\n",
    "    return x / y\n",
    "\n",
    "def subtraction(x, y):\n",
    "    return x - y\n",
    "\n",
    "def slope(x1,x2,y1,y2):\n",
    "    a= subtraction(y2, y1)\n",
    "    b= subtraction(x2, x1)\n",
    "    answer= division(a, b)\n",
    "    return answer\n",
    "\n",
    "x1= int(input(\"Please input a value for x1\"))\n",
    "x2= int(input(\"Please input a value for x2\"))\n",
    "y1= int(input(\"Please input a value for y1\"))\n",
    "y2= int(input(\"Please input a value for y2\"))\n",
    "\n",
    "# x1= 2, x2= 4, y1= 3, y2= 9\n",
    "\n",
    "print(slope(x1, x2, y1, y2))\n"
   ]
  },
  {
   "cell_type": "code",
   "execution_count": 23,
   "metadata": {
    "tags": []
   },
   "outputs": [
    {
     "output_type": "stream",
     "name": "stdout",
     "text": "2\n"
    }
   ],
   "source": [
    "# Use the functions given to create a distance function. The function should be named function and have 4 parameters.\n",
    "\n",
    "# HINT: You'll need a built in function here too. You'll also be able to use function written earlier in the notebook as long as you've run those cells.\n",
    "\n",
    "# If you don't remember the distance formula is the square root of the following ((x2 - x1)^2 + (y2 - y1)^2). If this doesn't make sense look up `Distance Formula` on google.\n",
    "\n",
    "import math\n",
    "\n",
    "def addition(x, y):\n",
    "    return x + y\n",
    "\n",
    "def distance_function(x1, x2, x3, x4):\n",
    "    a= subtraction(x2,x1)\n",
    "    b= subtraction(y2,y1)\n",
    "    c= pow(a,2)\n",
    "    d= pow(b,2)\n",
    "    answer= addition(c,d)\n",
    "    return answer\n",
    "\n",
    "x1= int(input(\"Please input a value for x1\"))\n",
    "x2= int(input(\"Please input a value for x2\"))\n",
    "y1= int(input(\"Please input a value for y1\"))\n",
    "y2= int(input(\"Please input a value for y2\"))\n",
    "\n",
    "print(distance_function(x1, x2, y1, y2))\n"
   ]
  },
  {
   "cell_type": "code",
   "execution_count": null,
   "metadata": {},
   "outputs": [],
   "source": []
  }
 ]
}